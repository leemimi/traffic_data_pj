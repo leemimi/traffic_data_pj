{
 "cells": [
  {
   "cell_type": "code",
   "execution_count": 1,
   "id": "f96a2c31",
   "metadata": {},
   "outputs": [],
   "source": [
    "import pandas as pd\n",
    "import datetime as datetime\n",
    "import time"
   ]
  },
  {
   "cell_type": "code",
   "execution_count": 2,
   "id": "caef8376",
   "metadata": {
    "scrolled": true
   },
   "outputs": [],
   "source": [
    "df = pd.read_csv(\"C:/Users/User/Desktop/속도전처리파일/d210101.csv\")"
   ]
  },
  {
   "cell_type": "code",
   "execution_count": 3,
   "id": "b1cbb274",
   "metadata": {},
   "outputs": [
    {
     "data": {
      "text/html": [
       "<div>\n",
       "<style scoped>\n",
       "    .dataframe tbody tr th:only-of-type {\n",
       "        vertical-align: middle;\n",
       "    }\n",
       "\n",
       "    .dataframe tbody tr th {\n",
       "        vertical-align: top;\n",
       "    }\n",
       "\n",
       "    .dataframe thead th {\n",
       "        text-align: right;\n",
       "    }\n",
       "</style>\n",
       "<table border=\"1\" class=\"dataframe\">\n",
       "  <thead>\n",
       "    <tr style=\"text-align: right;\">\n",
       "      <th></th>\n",
       "      <th>가상obu_id</th>\n",
       "      <th>수집시간차이</th>\n",
       "      <th>dsrc차종구분코드</th>\n",
       "    </tr>\n",
       "  </thead>\n",
       "  <tbody>\n",
       "    <tr>\n",
       "      <th>0</th>\n",
       "      <td>81</td>\n",
       "      <td>00:14:29</td>\n",
       "      <td>1</td>\n",
       "    </tr>\n",
       "    <tr>\n",
       "      <th>1</th>\n",
       "      <td>134</td>\n",
       "      <td>00:27:30</td>\n",
       "      <td>1</td>\n",
       "    </tr>\n",
       "    <tr>\n",
       "      <th>2</th>\n",
       "      <td>251</td>\n",
       "      <td>00:16:23</td>\n",
       "      <td>1</td>\n",
       "    </tr>\n",
       "    <tr>\n",
       "      <th>3</th>\n",
       "      <td>269</td>\n",
       "      <td>00:17:02</td>\n",
       "      <td>1</td>\n",
       "    </tr>\n",
       "    <tr>\n",
       "      <th>4</th>\n",
       "      <td>335</td>\n",
       "      <td>00:21:38</td>\n",
       "      <td>1</td>\n",
       "    </tr>\n",
       "    <tr>\n",
       "      <th>...</th>\n",
       "      <td>...</td>\n",
       "      <td>...</td>\n",
       "      <td>...</td>\n",
       "    </tr>\n",
       "    <tr>\n",
       "      <th>16138</th>\n",
       "      <td>1556064</td>\n",
       "      <td>00:15:42</td>\n",
       "      <td>6</td>\n",
       "    </tr>\n",
       "    <tr>\n",
       "      <th>16139</th>\n",
       "      <td>1556130</td>\n",
       "      <td>00:15:19</td>\n",
       "      <td>1</td>\n",
       "    </tr>\n",
       "    <tr>\n",
       "      <th>16140</th>\n",
       "      <td>1556282</td>\n",
       "      <td>00:12:30</td>\n",
       "      <td>1</td>\n",
       "    </tr>\n",
       "    <tr>\n",
       "      <th>16141</th>\n",
       "      <td>1556341</td>\n",
       "      <td>00:14:36</td>\n",
       "      <td>1</td>\n",
       "    </tr>\n",
       "    <tr>\n",
       "      <th>16142</th>\n",
       "      <td>1556391</td>\n",
       "      <td>00:16:47</td>\n",
       "      <td>1</td>\n",
       "    </tr>\n",
       "  </tbody>\n",
       "</table>\n",
       "<p>16143 rows × 3 columns</p>\n",
       "</div>"
      ],
      "text/plain": [
       "       가상obu_id    수집시간차이  dsrc차종구분코드\n",
       "0            81  00:14:29           1\n",
       "1           134  00:27:30           1\n",
       "2           251  00:16:23           1\n",
       "3           269  00:17:02           1\n",
       "4           335  00:21:38           1\n",
       "...         ...       ...         ...\n",
       "16138   1556064  00:15:42           6\n",
       "16139   1556130  00:15:19           1\n",
       "16140   1556282  00:12:30           1\n",
       "16141   1556341  00:14:36           1\n",
       "16142   1556391  00:16:47           1\n",
       "\n",
       "[16143 rows x 3 columns]"
      ]
     },
     "execution_count": 3,
     "metadata": {},
     "output_type": "execute_result"
    }
   ],
   "source": [
    "df"
   ]
  },
  {
   "cell_type": "code",
   "execution_count": 4,
   "id": "1734ddf0",
   "metadata": {},
   "outputs": [],
   "source": [
    "df['시간포맷']=pd.to_datetime(df['수집시간차이'], format = '%H:%M:%S')"
   ]
  },
  {
   "cell_type": "code",
   "execution_count": 5,
   "id": "9f7b8585",
   "metadata": {},
   "outputs": [],
   "source": [
    "df['시간포맷'] = df['시간포맷'].astype(str)"
   ]
  },
  {
   "cell_type": "code",
   "execution_count": 6,
   "id": "b7a301c2",
   "metadata": {},
   "outputs": [
    {
     "data": {
      "text/html": [
       "<div>\n",
       "<style scoped>\n",
       "    .dataframe tbody tr th:only-of-type {\n",
       "        vertical-align: middle;\n",
       "    }\n",
       "\n",
       "    .dataframe tbody tr th {\n",
       "        vertical-align: top;\n",
       "    }\n",
       "\n",
       "    .dataframe thead th {\n",
       "        text-align: right;\n",
       "    }\n",
       "</style>\n",
       "<table border=\"1\" class=\"dataframe\">\n",
       "  <thead>\n",
       "    <tr style=\"text-align: right;\">\n",
       "      <th></th>\n",
       "      <th>가상obu_id</th>\n",
       "      <th>수집시간차이</th>\n",
       "      <th>dsrc차종구분코드</th>\n",
       "      <th>시간포맷</th>\n",
       "    </tr>\n",
       "  </thead>\n",
       "  <tbody>\n",
       "    <tr>\n",
       "      <th>0</th>\n",
       "      <td>81</td>\n",
       "      <td>00:14:29</td>\n",
       "      <td>1</td>\n",
       "      <td>1900-01-01 00:14:29</td>\n",
       "    </tr>\n",
       "    <tr>\n",
       "      <th>1</th>\n",
       "      <td>134</td>\n",
       "      <td>00:27:30</td>\n",
       "      <td>1</td>\n",
       "      <td>1900-01-01 00:27:30</td>\n",
       "    </tr>\n",
       "    <tr>\n",
       "      <th>2</th>\n",
       "      <td>251</td>\n",
       "      <td>00:16:23</td>\n",
       "      <td>1</td>\n",
       "      <td>1900-01-01 00:16:23</td>\n",
       "    </tr>\n",
       "    <tr>\n",
       "      <th>3</th>\n",
       "      <td>269</td>\n",
       "      <td>00:17:02</td>\n",
       "      <td>1</td>\n",
       "      <td>1900-01-01 00:17:02</td>\n",
       "    </tr>\n",
       "    <tr>\n",
       "      <th>4</th>\n",
       "      <td>335</td>\n",
       "      <td>00:21:38</td>\n",
       "      <td>1</td>\n",
       "      <td>1900-01-01 00:21:38</td>\n",
       "    </tr>\n",
       "    <tr>\n",
       "      <th>...</th>\n",
       "      <td>...</td>\n",
       "      <td>...</td>\n",
       "      <td>...</td>\n",
       "      <td>...</td>\n",
       "    </tr>\n",
       "    <tr>\n",
       "      <th>16138</th>\n",
       "      <td>1556064</td>\n",
       "      <td>00:15:42</td>\n",
       "      <td>6</td>\n",
       "      <td>1900-01-01 00:15:42</td>\n",
       "    </tr>\n",
       "    <tr>\n",
       "      <th>16139</th>\n",
       "      <td>1556130</td>\n",
       "      <td>00:15:19</td>\n",
       "      <td>1</td>\n",
       "      <td>1900-01-01 00:15:19</td>\n",
       "    </tr>\n",
       "    <tr>\n",
       "      <th>16140</th>\n",
       "      <td>1556282</td>\n",
       "      <td>00:12:30</td>\n",
       "      <td>1</td>\n",
       "      <td>1900-01-01 00:12:30</td>\n",
       "    </tr>\n",
       "    <tr>\n",
       "      <th>16141</th>\n",
       "      <td>1556341</td>\n",
       "      <td>00:14:36</td>\n",
       "      <td>1</td>\n",
       "      <td>1900-01-01 00:14:36</td>\n",
       "    </tr>\n",
       "    <tr>\n",
       "      <th>16142</th>\n",
       "      <td>1556391</td>\n",
       "      <td>00:16:47</td>\n",
       "      <td>1</td>\n",
       "      <td>1900-01-01 00:16:47</td>\n",
       "    </tr>\n",
       "  </tbody>\n",
       "</table>\n",
       "<p>16143 rows × 4 columns</p>\n",
       "</div>"
      ],
      "text/plain": [
       "       가상obu_id    수집시간차이  dsrc차종구분코드                 시간포맷\n",
       "0            81  00:14:29           1  1900-01-01 00:14:29\n",
       "1           134  00:27:30           1  1900-01-01 00:27:30\n",
       "2           251  00:16:23           1  1900-01-01 00:16:23\n",
       "3           269  00:17:02           1  1900-01-01 00:17:02\n",
       "4           335  00:21:38           1  1900-01-01 00:21:38\n",
       "...         ...       ...         ...                  ...\n",
       "16138   1556064  00:15:42           6  1900-01-01 00:15:42\n",
       "16139   1556130  00:15:19           1  1900-01-01 00:15:19\n",
       "16140   1556282  00:12:30           1  1900-01-01 00:12:30\n",
       "16141   1556341  00:14:36           1  1900-01-01 00:14:36\n",
       "16142   1556391  00:16:47           1  1900-01-01 00:16:47\n",
       "\n",
       "[16143 rows x 4 columns]"
      ]
     },
     "execution_count": 6,
     "metadata": {},
     "output_type": "execute_result"
    }
   ],
   "source": [
    "df"
   ]
  },
  {
   "cell_type": "code",
   "execution_count": 7,
   "id": "5b06106a",
   "metadata": {},
   "outputs": [],
   "source": [
    "# def str_to_datetime(date):\n",
    "#     change = datetime(2020,1,1,int(date[0:1]),int(date[2:4]),int(date[5:7]))\n",
    "#     return change"
   ]
  },
  {
   "cell_type": "code",
   "execution_count": 8,
   "id": "3864af3f",
   "metadata": {
    "scrolled": true
   },
   "outputs": [],
   "source": [
    "def setDatetime(df):\n",
    "    s = datetime.datetime.strptime(str(df.시간포맷),'%Y-%m-%d %H:%M:%S')\n",
    "    a= datetime.datetime.strptime(str('1900-01-01 00:00:00'),'%Y-%m-%d %H:%M:%S')\n",
    "    return (s-a).total_seconds()\n",
    "\n",
    "df['execution_time'] = df.apply(setDatetime,axis=1)\n"
   ]
  },
  {
   "cell_type": "code",
   "execution_count": 9,
   "id": "21bc3485",
   "metadata": {},
   "outputs": [],
   "source": [
    "se=df['execution_time'].mean()"
   ]
  },
  {
   "cell_type": "code",
   "execution_count": 10,
   "id": "ff5642e1",
   "metadata": {},
   "outputs": [
    {
     "data": {
      "text/plain": [
       "'0:52:09.704454'"
      ]
     },
     "execution_count": 10,
     "metadata": {},
     "output_type": "execute_result"
    }
   ],
   "source": [
    "str(datetime.timedelta(seconds=se))"
   ]
  },
  {
   "cell_type": "code",
   "execution_count": 11,
   "id": "49ad177e",
   "metadata": {},
   "outputs": [],
   "source": [
    "# 화물차4종, 특수5종 합체 (4에 5를 더함)"
   ]
  },
  {
   "cell_type": "code",
   "execution_count": 12,
   "id": "d41c83dc",
   "metadata": {},
   "outputs": [],
   "source": [
    "df=df.replace({'dsrc차종구분코드':5},4)"
   ]
  },
  {
   "cell_type": "code",
   "execution_count": 13,
   "id": "fbe60715",
   "metadata": {},
   "outputs": [],
   "source": [
    "groups = df.groupby('dsrc차종구분코드',as_index=False)"
   ]
  },
  {
   "cell_type": "code",
   "execution_count": null,
   "id": "c03806d6",
   "metadata": {},
   "outputs": [],
   "source": []
  },
  {
   "cell_type": "code",
   "execution_count": 14,
   "id": "b8e5cc83",
   "metadata": {},
   "outputs": [
    {
     "data": {
      "text/html": [
       "<div>\n",
       "<style scoped>\n",
       "    .dataframe tbody tr th:only-of-type {\n",
       "        vertical-align: middle;\n",
       "    }\n",
       "\n",
       "    .dataframe tbody tr th {\n",
       "        vertical-align: top;\n",
       "    }\n",
       "\n",
       "    .dataframe thead th {\n",
       "        text-align: right;\n",
       "    }\n",
       "</style>\n",
       "<table border=\"1\" class=\"dataframe\">\n",
       "  <thead>\n",
       "    <tr style=\"text-align: right;\">\n",
       "      <th></th>\n",
       "      <th>dsrc차종구분코드</th>\n",
       "      <th>size</th>\n",
       "    </tr>\n",
       "  </thead>\n",
       "  <tbody>\n",
       "    <tr>\n",
       "      <th>0</th>\n",
       "      <td>0</td>\n",
       "      <td>23</td>\n",
       "    </tr>\n",
       "    <tr>\n",
       "      <th>1</th>\n",
       "      <td>1</td>\n",
       "      <td>13645</td>\n",
       "    </tr>\n",
       "    <tr>\n",
       "      <th>2</th>\n",
       "      <td>2</td>\n",
       "      <td>91</td>\n",
       "    </tr>\n",
       "    <tr>\n",
       "      <th>3</th>\n",
       "      <td>3</td>\n",
       "      <td>1673</td>\n",
       "    </tr>\n",
       "    <tr>\n",
       "      <th>4</th>\n",
       "      <td>4</td>\n",
       "      <td>421</td>\n",
       "    </tr>\n",
       "    <tr>\n",
       "      <th>5</th>\n",
       "      <td>6</td>\n",
       "      <td>290</td>\n",
       "    </tr>\n",
       "  </tbody>\n",
       "</table>\n",
       "</div>"
      ],
      "text/plain": [
       "   dsrc차종구분코드   size\n",
       "0           0     23\n",
       "1           1  13645\n",
       "2           2     91\n",
       "3           3   1673\n",
       "4           4    421\n",
       "5           6    290"
      ]
     },
     "execution_count": 14,
     "metadata": {},
     "output_type": "execute_result"
    }
   ],
   "source": [
    "groups.size()"
   ]
  },
  {
   "cell_type": "code",
   "execution_count": 15,
   "id": "aa1e97d1",
   "metadata": {},
   "outputs": [],
   "source": [
    "k=groups.mean()"
   ]
  },
  {
   "cell_type": "code",
   "execution_count": 16,
   "id": "b11548a9",
   "metadata": {
    "scrolled": true
   },
   "outputs": [],
   "source": [
    "car_num=k.pop('dsrc차종구분코드')"
   ]
  },
  {
   "cell_type": "code",
   "execution_count": 17,
   "id": "8a61a52c",
   "metadata": {},
   "outputs": [],
   "source": [
    "list_car =[]\n",
    "for i in k['execution_time']:\n",
    "    list_car.append(str(datetime.timedelta(seconds=i)))"
   ]
  },
  {
   "cell_type": "code",
   "execution_count": 18,
   "id": "1cd2be72",
   "metadata": {},
   "outputs": [
    {
     "data": {
      "text/plain": [
       "['0:24:43.695652',\n",
       " '0:51:22.058630',\n",
       " '1:34:10.197802',\n",
       " '0:53:22.298864',\n",
       " '1:10:11.021378',\n",
       " '0:45:22.586207']"
      ]
     },
     "execution_count": 18,
     "metadata": {},
     "output_type": "execute_result"
    }
   ],
   "source": [
    "list_car"
   ]
  },
  {
   "cell_type": "code",
   "execution_count": 19,
   "id": "3ebf2a33",
   "metadata": {},
   "outputs": [
    {
     "data": {
      "text/html": [
       "<div>\n",
       "<style scoped>\n",
       "    .dataframe tbody tr th:only-of-type {\n",
       "        vertical-align: middle;\n",
       "    }\n",
       "\n",
       "    .dataframe tbody tr th {\n",
       "        vertical-align: top;\n",
       "    }\n",
       "\n",
       "    .dataframe thead th {\n",
       "        text-align: right;\n",
       "    }\n",
       "</style>\n",
       "<table border=\"1\" class=\"dataframe\">\n",
       "  <thead>\n",
       "    <tr style=\"text-align: right;\">\n",
       "      <th></th>\n",
       "      <th>dsrc차종구분코드</th>\n",
       "      <th>시간평균</th>\n",
       "    </tr>\n",
       "  </thead>\n",
       "  <tbody>\n",
       "    <tr>\n",
       "      <th>0</th>\n",
       "      <td>0</td>\n",
       "      <td>0:24:43.695652</td>\n",
       "    </tr>\n",
       "    <tr>\n",
       "      <th>1</th>\n",
       "      <td>1</td>\n",
       "      <td>0:51:22.058630</td>\n",
       "    </tr>\n",
       "    <tr>\n",
       "      <th>2</th>\n",
       "      <td>2</td>\n",
       "      <td>1:34:10.197802</td>\n",
       "    </tr>\n",
       "    <tr>\n",
       "      <th>3</th>\n",
       "      <td>3</td>\n",
       "      <td>0:53:22.298864</td>\n",
       "    </tr>\n",
       "    <tr>\n",
       "      <th>4</th>\n",
       "      <td>4</td>\n",
       "      <td>1:10:11.021378</td>\n",
       "    </tr>\n",
       "    <tr>\n",
       "      <th>5</th>\n",
       "      <td>6</td>\n",
       "      <td>0:45:22.586207</td>\n",
       "    </tr>\n",
       "  </tbody>\n",
       "</table>\n",
       "</div>"
      ],
      "text/plain": [
       "   dsrc차종구분코드            시간평균\n",
       "0           0  0:24:43.695652\n",
       "1           1  0:51:22.058630\n",
       "2           2  1:34:10.197802\n",
       "3           3  0:53:22.298864\n",
       "4           4  1:10:11.021378\n",
       "5           6  0:45:22.586207"
      ]
     },
     "execution_count": 19,
     "metadata": {},
     "output_type": "execute_result"
    }
   ],
   "source": [
    "data = pd.DataFrame({\n",
    "    'dsrc차종구분코드':car_num,\n",
    "    '시간평균':list_car\n",
    "})\n",
    "data"
   ]
  },
  {
   "cell_type": "code",
   "execution_count": null,
   "id": "89c1cbb5",
   "metadata": {},
   "outputs": [],
   "source": []
  },
  {
   "cell_type": "code",
   "execution_count": null,
   "id": "b2319694",
   "metadata": {},
   "outputs": [],
   "source": []
  },
  {
   "cell_type": "code",
   "execution_count": null,
   "id": "918a5266",
   "metadata": {},
   "outputs": [],
   "source": []
  },
  {
   "cell_type": "code",
   "execution_count": null,
   "id": "0b6e4f36",
   "metadata": {},
   "outputs": [],
   "source": []
  },
  {
   "cell_type": "code",
   "execution_count": null,
   "id": "a6b104bb",
   "metadata": {},
   "outputs": [],
   "source": []
  },
  {
   "cell_type": "code",
   "execution_count": null,
   "id": "69ea937a",
   "metadata": {},
   "outputs": [],
   "source": []
  }
 ],
 "metadata": {
  "kernelspec": {
   "display_name": "Python 3 (ipykernel)",
   "language": "python",
   "name": "python3"
  },
  "language_info": {
   "codemirror_mode": {
    "name": "ipython",
    "version": 3
   },
   "file_extension": ".py",
   "mimetype": "text/x-python",
   "name": "python",
   "nbconvert_exporter": "python",
   "pygments_lexer": "ipython3",
   "version": "3.9.12"
  }
 },
 "nbformat": 4,
 "nbformat_minor": 5
}
