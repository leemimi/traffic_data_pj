{
 "cells": [
  {
   "cell_type": "code",
   "execution_count": 1,
   "id": "ed03bdf5",
   "metadata": {},
   "outputs": [],
   "source": [
    "import pandas as pd\n",
    "from datetime import datetime"
   ]
  },
  {
   "cell_type": "code",
   "execution_count": 2,
   "id": "bf355fac",
   "metadata": {},
   "outputs": [],
   "source": [
    "data = pd.read_csv(\"C:/Users/user/Desktop/R202101/R20210105.csv\",encoding='cp949')"
   ]
  },
  {
   "cell_type": "code",
   "execution_count": 3,
   "id": "eaebb617",
   "metadata": {},
   "outputs": [
    {
     "data": {
      "text/html": [
       "<div>\n",
       "<style scoped>\n",
       "    .dataframe tbody tr th:only-of-type {\n",
       "        vertical-align: middle;\n",
       "    }\n",
       "\n",
       "    .dataframe tbody tr th {\n",
       "        vertical-align: top;\n",
       "    }\n",
       "\n",
       "    .dataframe thead th {\n",
       "        text-align: right;\n",
       "    }\n",
       "</style>\n",
       "<table border=\"1\" class=\"dataframe\">\n",
       "  <thead>\n",
       "    <tr style=\"text-align: right;\">\n",
       "      <th></th>\n",
       "      <th>Unnamed: 0</th>\n",
       "      <th>기준일자</th>\n",
       "      <th>요일명</th>\n",
       "      <th>rse수집시분초</th>\n",
       "      <th>rse_id</th>\n",
       "      <th>가상obu_id</th>\n",
       "      <th>dsrc차종구분명</th>\n",
       "      <th>노선번호</th>\n",
       "      <th>도로이정</th>\n",
       "      <th>dsrc차종구분코드</th>\n",
       "    </tr>\n",
       "  </thead>\n",
       "  <tbody>\n",
       "    <tr>\n",
       "      <th>0</th>\n",
       "      <td>1</td>\n",
       "      <td>2021-01-05</td>\n",
       "      <td>화요일</td>\n",
       "      <td>213153</td>\n",
       "      <td>2100401014169</td>\n",
       "      <td>79</td>\n",
       "      <td>1종</td>\n",
       "      <td>10</td>\n",
       "      <td>416.9</td>\n",
       "      <td>1</td>\n",
       "    </tr>\n",
       "    <tr>\n",
       "      <th>1</th>\n",
       "      <td>2</td>\n",
       "      <td>2021-01-05</td>\n",
       "      <td>화요일</td>\n",
       "      <td>211916</td>\n",
       "      <td>2100401013936</td>\n",
       "      <td>79</td>\n",
       "      <td>1종</td>\n",
       "      <td>10</td>\n",
       "      <td>393.6</td>\n",
       "      <td>1</td>\n",
       "    </tr>\n",
       "    <tr>\n",
       "      <th>2</th>\n",
       "      <td>3</td>\n",
       "      <td>2021-01-05</td>\n",
       "      <td>화요일</td>\n",
       "      <td>153214</td>\n",
       "      <td>2100401014169</td>\n",
       "      <td>174</td>\n",
       "      <td>1종</td>\n",
       "      <td>10</td>\n",
       "      <td>416.9</td>\n",
       "      <td>1</td>\n",
       "    </tr>\n",
       "    <tr>\n",
       "      <th>3</th>\n",
       "      <td>4</td>\n",
       "      <td>2021-01-05</td>\n",
       "      <td>화요일</td>\n",
       "      <td>150130</td>\n",
       "      <td>2100401013936</td>\n",
       "      <td>174</td>\n",
       "      <td>1종</td>\n",
       "      <td>10</td>\n",
       "      <td>393.6</td>\n",
       "      <td>1</td>\n",
       "    </tr>\n",
       "    <tr>\n",
       "      <th>4</th>\n",
       "      <td>5</td>\n",
       "      <td>2021-01-05</td>\n",
       "      <td>화요일</td>\n",
       "      <td>44839</td>\n",
       "      <td>2100401014169</td>\n",
       "      <td>659</td>\n",
       "      <td>2종</td>\n",
       "      <td>10</td>\n",
       "      <td>416.9</td>\n",
       "      <td>2</td>\n",
       "    </tr>\n",
       "    <tr>\n",
       "      <th>...</th>\n",
       "      <td>...</td>\n",
       "      <td>...</td>\n",
       "      <td>...</td>\n",
       "      <td>...</td>\n",
       "      <td>...</td>\n",
       "      <td>...</td>\n",
       "      <td>...</td>\n",
       "      <td>...</td>\n",
       "      <td>...</td>\n",
       "      <td>...</td>\n",
       "    </tr>\n",
       "    <tr>\n",
       "      <th>31359</th>\n",
       "      <td>31360</td>\n",
       "      <td>2021-01-05</td>\n",
       "      <td>화요일</td>\n",
       "      <td>24556</td>\n",
       "      <td>2100401013936</td>\n",
       "      <td>1840706</td>\n",
       "      <td>3종</td>\n",
       "      <td>10</td>\n",
       "      <td>393.6</td>\n",
       "      <td>3</td>\n",
       "    </tr>\n",
       "    <tr>\n",
       "      <th>31360</th>\n",
       "      <td>31361</td>\n",
       "      <td>2021-01-05</td>\n",
       "      <td>화요일</td>\n",
       "      <td>133003</td>\n",
       "      <td>2100401014169</td>\n",
       "      <td>1840911</td>\n",
       "      <td>1종</td>\n",
       "      <td>10</td>\n",
       "      <td>416.9</td>\n",
       "      <td>1</td>\n",
       "    </tr>\n",
       "    <tr>\n",
       "      <th>31361</th>\n",
       "      <td>31362</td>\n",
       "      <td>2021-01-05</td>\n",
       "      <td>화요일</td>\n",
       "      <td>113307</td>\n",
       "      <td>2100401013936</td>\n",
       "      <td>1840911</td>\n",
       "      <td>1종</td>\n",
       "      <td>10</td>\n",
       "      <td>393.6</td>\n",
       "      <td>1</td>\n",
       "    </tr>\n",
       "    <tr>\n",
       "      <th>31362</th>\n",
       "      <td>31363</td>\n",
       "      <td>2021-01-05</td>\n",
       "      <td>화요일</td>\n",
       "      <td>131615</td>\n",
       "      <td>2100401014169</td>\n",
       "      <td>1841031</td>\n",
       "      <td>1종</td>\n",
       "      <td>10</td>\n",
       "      <td>416.9</td>\n",
       "      <td>1</td>\n",
       "    </tr>\n",
       "    <tr>\n",
       "      <th>31363</th>\n",
       "      <td>31364</td>\n",
       "      <td>2021-01-05</td>\n",
       "      <td>화요일</td>\n",
       "      <td>102431</td>\n",
       "      <td>2100401013936</td>\n",
       "      <td>1841031</td>\n",
       "      <td>1종</td>\n",
       "      <td>10</td>\n",
       "      <td>393.6</td>\n",
       "      <td>1</td>\n",
       "    </tr>\n",
       "  </tbody>\n",
       "</table>\n",
       "<p>31364 rows × 10 columns</p>\n",
       "</div>"
      ],
      "text/plain": [
       "       Unnamed: 0        기준일자  요일명  rse수집시분초         rse_id  가상obu_id  \\\n",
       "0               1  2021-01-05  화요일    213153  2100401014169        79   \n",
       "1               2  2021-01-05  화요일    211916  2100401013936        79   \n",
       "2               3  2021-01-05  화요일    153214  2100401014169       174   \n",
       "3               4  2021-01-05  화요일    150130  2100401013936       174   \n",
       "4               5  2021-01-05  화요일     44839  2100401014169       659   \n",
       "...           ...         ...  ...       ...            ...       ...   \n",
       "31359       31360  2021-01-05  화요일     24556  2100401013936   1840706   \n",
       "31360       31361  2021-01-05  화요일    133003  2100401014169   1840911   \n",
       "31361       31362  2021-01-05  화요일    113307  2100401013936   1840911   \n",
       "31362       31363  2021-01-05  화요일    131615  2100401014169   1841031   \n",
       "31363       31364  2021-01-05  화요일    102431  2100401013936   1841031   \n",
       "\n",
       "      dsrc차종구분명  노선번호   도로이정  dsrc차종구분코드  \n",
       "0            1종    10  416.9           1  \n",
       "1            1종    10  393.6           1  \n",
       "2            1종    10  416.9           1  \n",
       "3            1종    10  393.6           1  \n",
       "4            2종    10  416.9           2  \n",
       "...         ...   ...    ...         ...  \n",
       "31359        3종    10  393.6           3  \n",
       "31360        1종    10  416.9           1  \n",
       "31361        1종    10  393.6           1  \n",
       "31362        1종    10  416.9           1  \n",
       "31363        1종    10  393.6           1  \n",
       "\n",
       "[31364 rows x 10 columns]"
      ]
     },
     "execution_count": 3,
     "metadata": {},
     "output_type": "execute_result"
    }
   ],
   "source": [
    "data"
   ]
  },
  {
   "cell_type": "code",
   "execution_count": 4,
   "id": "2d59bf9b",
   "metadata": {},
   "outputs": [],
   "source": [
    "data = data.drop(['Unnamed: 0'],axis=1)"
   ]
  },
  {
   "cell_type": "code",
   "execution_count": 5,
   "id": "e1e6d298",
   "metadata": {},
   "outputs": [],
   "source": [
    "# data = data.sort_values(by=['가상obu_id','rse수집시분초']).reset_index(drop=True)"
   ]
  },
  {
   "cell_type": "code",
   "execution_count": 6,
   "id": "25e65408",
   "metadata": {},
   "outputs": [],
   "source": [
    "# data.head(7)"
   ]
  },
  {
   "cell_type": "code",
   "execution_count": 7,
   "id": "c3c03143",
   "metadata": {},
   "outputs": [],
   "source": [
    "data['rse수집시분초'] = data['rse수집시분초'].apply(lambda x :str(x).zfill(6))"
   ]
  },
  {
   "cell_type": "code",
   "execution_count": 8,
   "id": "60450e5a",
   "metadata": {},
   "outputs": [],
   "source": [
    "# data"
   ]
  },
  {
   "cell_type": "code",
   "execution_count": 9,
   "id": "f56d0769",
   "metadata": {},
   "outputs": [],
   "source": [
    "cols= ['기준일자','rse수집시분초']\n",
    "data['년월일시분초']=data[cols].apply(lambda row:' '.join(row.values.astype(str)),axis=1)"
   ]
  },
  {
   "cell_type": "code",
   "execution_count": 10,
   "id": "e4c0cd29",
   "metadata": {
    "scrolled": true
   },
   "outputs": [],
   "source": [
    "# data.tail(15)"
   ]
  },
  {
   "cell_type": "code",
   "execution_count": 11,
   "id": "bda81215",
   "metadata": {},
   "outputs": [],
   "source": [
    "data['년월일시분초'] = pd.to_datetime(data['년월일시분초'], format = '%Y-%m-%d %H%M%S')"
   ]
  },
  {
   "cell_type": "code",
   "execution_count": 12,
   "id": "768082e4",
   "metadata": {},
   "outputs": [],
   "source": [
    "# data.head(20)"
   ]
  },
  {
   "cell_type": "code",
   "execution_count": 13,
   "id": "c8aa5c7b",
   "metadata": {},
   "outputs": [],
   "source": [
    "# data.info()"
   ]
  },
  {
   "cell_type": "code",
   "execution_count": 14,
   "id": "cc43c066",
   "metadata": {},
   "outputs": [],
   "source": [
    "# def str_to_datetime(date):\n",
    "#     change = datetime(2020,1,1,int(date[0:1]),int(date[2:4]),int(date[5:7]))\n",
    "#     return change"
   ]
  },
  {
   "cell_type": "code",
   "execution_count": 15,
   "id": "300d1078",
   "metadata": {},
   "outputs": [],
   "source": [
    "obu_id_list = []\n",
    "for obu_id in data['가상obu_id']:\n",
    "    if obu_id not in obu_id_list:   # 중복 삭제\n",
    "        obu_id_list.append(obu_id)"
   ]
  },
  {
   "cell_type": "code",
   "execution_count": 16,
   "id": "3b5aaa62",
   "metadata": {},
   "outputs": [],
   "source": [
    "# obu_id_list"
   ]
  },
  {
   "cell_type": "code",
   "execution_count": 17,
   "id": "a6f6b85a",
   "metadata": {
    "scrolled": true
   },
   "outputs": [
    {
     "data": {
      "text/html": [
       "<div>\n",
       "<style scoped>\n",
       "    .dataframe tbody tr th:only-of-type {\n",
       "        vertical-align: middle;\n",
       "    }\n",
       "\n",
       "    .dataframe tbody tr th {\n",
       "        vertical-align: top;\n",
       "    }\n",
       "\n",
       "    .dataframe thead th {\n",
       "        text-align: right;\n",
       "    }\n",
       "</style>\n",
       "<table border=\"1\" class=\"dataframe\">\n",
       "  <thead>\n",
       "    <tr style=\"text-align: right;\">\n",
       "      <th></th>\n",
       "      <th>rse수집시분초차이</th>\n",
       "      <th>가상obu_id</th>\n",
       "    </tr>\n",
       "  </thead>\n",
       "  <tbody>\n",
       "  </tbody>\n",
       "</table>\n",
       "</div>"
      ],
      "text/plain": [
       "Empty DataFrame\n",
       "Columns: [rse수집시분초차이, 가상obu_id]\n",
       "Index: []"
      ]
     },
     "execution_count": 17,
     "metadata": {},
     "output_type": "execute_result"
    }
   ],
   "source": [
    "main_result = pd.DataFrame(columns=['rse수집시분초차이','가상obu_id'])\n",
    "main_result"
   ]
  },
  {
   "cell_type": "code",
   "execution_count": 18,
   "id": "af53e255",
   "metadata": {},
   "outputs": [],
   "source": [
    "for obu_id in obu_id_list:\n",
    "    df_test = data.loc[data['가상obu_id']==obu_id]\n",
    "    #df_test = df_test.sort_values(by=['rse수집시분초'], ascending=False)\n",
    "    diff_list = []\n",
    "    for i in range(int(len(df_test['rse수집시분초'])/2)):\n",
    "#         diff = str_to_datetime(df_test['rse수집시분초'].iloc[i*2]) - str_to_datetime(df_test['rse수집시분초'].iloc[i*2+1])\n",
    "        diff = (df_test['년월일시분초'].iloc[i*2]) - (df_test['년월일시분초'].iloc[i*2+1])\n",
    "        diff_list.append(diff)\n",
    "        \n",
    "        df_result = pd.DataFrame({'가상obu_id':obu_id,'rse수집시분초차이':diff_list})\n",
    "        \n",
    "        main_result = pd.concat([df_result, main_result], ignore_index=True)\n",
    "        "
   ]
  },
  {
   "cell_type": "code",
   "execution_count": 19,
   "id": "70a8ab1c",
   "metadata": {},
   "outputs": [],
   "source": [
    "# main_result"
   ]
  },
  {
   "cell_type": "code",
   "execution_count": 20,
   "id": "95eb67ec",
   "metadata": {},
   "outputs": [],
   "source": [
    "# main_result=main_result[main_result.날자 !=-1.0]"
   ]
  },
  {
   "cell_type": "code",
   "execution_count": 21,
   "id": "568b244b",
   "metadata": {},
   "outputs": [],
   "source": [
    "main_result=main_result.sort_values(by=['가상obu_id'])"
   ]
  },
  {
   "cell_type": "code",
   "execution_count": 22,
   "id": "60b514ef",
   "metadata": {},
   "outputs": [],
   "source": [
    "car_id=data[['가상obu_id','dsrc차종구분코드']]"
   ]
  },
  {
   "cell_type": "code",
   "execution_count": 23,
   "id": "c59168ea",
   "metadata": {},
   "outputs": [],
   "source": [
    "df=pd.merge(main_result,car_id,left_on='가상obu_id',right_on='가상obu_id')"
   ]
  },
  {
   "cell_type": "code",
   "execution_count": 24,
   "id": "b2c58d07",
   "metadata": {
    "scrolled": true
   },
   "outputs": [],
   "source": [
    "# main_result.tail(50)"
   ]
  },
  {
   "cell_type": "code",
   "execution_count": 25,
   "id": "1e89e6e9",
   "metadata": {},
   "outputs": [],
   "source": [
    "df=df.drop_duplicates()"
   ]
  },
  {
   "cell_type": "code",
   "execution_count": 26,
   "id": "b0007fa5",
   "metadata": {},
   "outputs": [],
   "source": [
    "# df"
   ]
  },
  {
   "cell_type": "code",
   "execution_count": 27,
   "id": "26b494ad",
   "metadata": {},
   "outputs": [],
   "source": [
    "df['rse수집시분초차이'] = df['rse수집시분초차이'].astype(str)\n",
    "df['fruit'] = df.rse수집시분초차이.str.split(' ').str[0]\n",
    "df['fruit1'] = df.rse수집시분초차이.str.split(' ').str[1]\n",
    "df['수집시간차이'] = df.rse수집시분초차이.str.split(' ').str[2]\n",
    "\n",
    "df = df.drop(['fruit','fruit1','rse수집시분초차이'],axis=1)"
   ]
  },
  {
   "cell_type": "code",
   "execution_count": 28,
   "id": "684d88ef",
   "metadata": {},
   "outputs": [],
   "source": [
    "df = df[['가상obu_id','수집시간차이','dsrc차종구분코드']]"
   ]
  },
  {
   "cell_type": "code",
   "execution_count": 29,
   "id": "27233108",
   "metadata": {},
   "outputs": [],
   "source": [
    "df.to_csv(\"C:/Users/User/Desktop/속도전처리파일/d210105.csv\",index=False)"
   ]
  },
  {
   "cell_type": "code",
   "execution_count": 30,
   "id": "dc5cf521",
   "metadata": {},
   "outputs": [],
   "source": [
    "df = pd.read_csv(\"C:/Users/User/Desktop/속도전처리파일/d210105.csv\")"
   ]
  },
  {
   "cell_type": "code",
   "execution_count": 31,
   "id": "4ed69f1d",
   "metadata": {},
   "outputs": [],
   "source": [
    "# df.head(50)"
   ]
  },
  {
   "cell_type": "code",
   "execution_count": null,
   "id": "322de318",
   "metadata": {},
   "outputs": [],
   "source": []
  }
 ],
 "metadata": {
  "kernelspec": {
   "display_name": "Python 3 (ipykernel)",
   "language": "python",
   "name": "python3"
  },
  "language_info": {
   "codemirror_mode": {
    "name": "ipython",
    "version": 3
   },
   "file_extension": ".py",
   "mimetype": "text/x-python",
   "name": "python",
   "nbconvert_exporter": "python",
   "pygments_lexer": "ipython3",
   "version": "3.9.12"
  }
 },
 "nbformat": 4,
 "nbformat_minor": 5
}
